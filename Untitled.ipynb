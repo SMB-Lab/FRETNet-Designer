{
 "cells": [
  {
   "cell_type": "code",
   "execution_count": 3,
   "id": "a06a9510-9771-4a36-a9b0-2d81f586c877",
   "metadata": {},
   "outputs": [
    {
     "name": "stdout",
     "output_type": "stream",
     "text": [
      "/zfs/smblab/fduffy/envs/fret_dev/bin/python\n"
     ]
    }
   ],
   "source": [
    "import sys\n",
    "\n",
    "print(sys.executable)"
   ]
  },
  {
   "cell_type": "code",
   "execution_count": 8,
   "id": "90e93be2-0d5e-4ae1-ac93-ecc15c767058",
   "metadata": {},
   "outputs": [],
   "source": [
    "import mdtraj as md\n",
    "import fretraj as ft"
   ]
  },
  {
   "cell_type": "code",
   "execution_count": null,
   "id": "fc3ffd35-75d8-4449-9508-f8c6076cd201",
   "metadata": {},
   "outputs": [],
   "source": []
  }
 ],
 "metadata": {
  "kernelspec": {
   "display_name": "My Python",
   "language": "python",
   "name": "python_custom"
  },
  "language_info": {
   "codemirror_mode": {
    "name": "ipython",
    "version": 3
   },
   "file_extension": ".py",
   "mimetype": "text/x-python",
   "name": "python",
   "nbconvert_exporter": "python",
   "pygments_lexer": "ipython3",
   "version": "3.9.16"
  }
 },
 "nbformat": 4,
 "nbformat_minor": 5
}
